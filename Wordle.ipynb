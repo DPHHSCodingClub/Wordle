{
 "cells": [
  {
   "cell_type": "markdown",
   "metadata": {},
   "source": [
    "### Import all functions and libraries from `wordle.py`"
   ]
  },
  {
   "cell_type": "code",
   "execution_count": 1,
   "metadata": {},
   "outputs": [],
   "source": [
    "from wordle import *"
   ]
  },
  {
   "cell_type": "markdown",
   "metadata": {},
   "source": [
    "### Run `play_wordle()` to start a game\n",
    "- Code will randomly select a 5-letter word from the English Dictionary\n",
    "- You have six tries to guess correctly\n",
    "- If you guess the position of a letter in the word it will turn `GREEN`\n",
    "- If you guess a letter, but it is in the wron position it turns `ORANGE`\n",
    "- If the letter does not exist, it will become `lower case black ink`\n",
    "\n",
    "#### GOOD LUCK, NERDS!"
   ]
  },
  {
   "cell_type": "code",
   "execution_count": 3,
   "metadata": {},
   "outputs": [
    {
     "name": "stdout",
     "output_type": "stream",
     "text": [
      "Enter a 5-letter Word :coder\n"
     ]
    },
    {
     "data": {
      "text/html": [
       "<style type=\"text/css\">\n",
       "#T_70377_row0_col0, #T_70377_row0_col1, #T_70377_row0_col2, #T_70377_row0_col3, #T_70377_row0_col4 {\n",
       "  color: green;\n",
       "}\n",
       "</style>\n",
       "<table id=\"T_70377_\">\n",
       "  <thead>\n",
       "    <tr>\n",
       "      <th class=\"blank level0\" >&nbsp;</th>\n",
       "      <th class=\"col_heading level0 col0\" >L1</th>\n",
       "      <th class=\"col_heading level0 col1\" >L2</th>\n",
       "      <th class=\"col_heading level0 col2\" >L3</th>\n",
       "      <th class=\"col_heading level0 col3\" >L4</th>\n",
       "      <th class=\"col_heading level0 col4\" >L5</th>\n",
       "    </tr>\n",
       "  </thead>\n",
       "  <tbody>\n",
       "    <tr>\n",
       "      <th id=\"T_70377_level0_row0\" class=\"row_heading level0 row0\" >TRY_1</th>\n",
       "      <td id=\"T_70377_row0_col0\" class=\"data row0 col0\" >C</td>\n",
       "      <td id=\"T_70377_row0_col1\" class=\"data row0 col1\" >O</td>\n",
       "      <td id=\"T_70377_row0_col2\" class=\"data row0 col2\" >D</td>\n",
       "      <td id=\"T_70377_row0_col3\" class=\"data row0 col3\" >E</td>\n",
       "      <td id=\"T_70377_row0_col4\" class=\"data row0 col4\" >R</td>\n",
       "    </tr>\n",
       "  </tbody>\n",
       "</table>\n"
      ],
      "text/plain": [
       "<pandas.io.formats.style.Styler at 0x15e2660a400>"
      ]
     },
     "metadata": {},
     "output_type": "display_data"
    },
    {
     "name": "stdout",
     "output_type": "stream",
     "text": [
      "##############################################################\n",
      "       HURRAY THE WORD WAS: CODER \n",
      "##############################################################\n",
      "YOU ARE A HUMAN GENIUS! YOU SHOULD BE FEARED AND RESPECTED!!!\n",
      "Give yourself a pat on the shoulder :)\n",
      "That student debt is finally paying off!!!\n",
      "WANNA PLAY AGAIN?\n"
     ]
    }
   ],
   "source": [
    "play_wordle(1)"
   ]
  },
  {
   "cell_type": "code",
   "execution_count": null,
   "metadata": {},
   "outputs": [],
   "source": []
  }
 ],
 "metadata": {
  "kernelspec": {
   "display_name": "Python 3 (ipykernel)",
   "language": "python",
   "name": "python3"
  },
  "language_info": {
   "codemirror_mode": {
    "name": "ipython",
    "version": 3
   },
   "file_extension": ".py",
   "mimetype": "text/x-python",
   "name": "python",
   "nbconvert_exporter": "python",
   "pygments_lexer": "ipython3",
   "version": "3.9.7"
  }
 },
 "nbformat": 4,
 "nbformat_minor": 4
}
