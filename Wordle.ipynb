{
 "cells": [
  {
   "cell_type": "markdown",
   "metadata": {},
   "source": [
    "### Import all functions and libraries from `wordle.py`"
   ]
  },
  {
   "cell_type": "code",
   "execution_count": 1,
   "metadata": {},
   "outputs": [],
   "source": [
    "from wordle import *"
   ]
  },
  {
   "cell_type": "markdown",
   "metadata": {},
   "source": [
    "### Run `play_wordle()` to start a game\n",
    "- Code will randomly select a 5-letter word from the English Dictionary\n",
    "- You have six tries to guess correctly\n",
    "- If you guess the position of a letter in the word it will turn `GREEN`\n",
    "- If you guess a letter, but it is in the wron position it turns `ORANGE`\n",
    "- If the letter does not exist, it will become `lower case black ink`"
   ]
  },
  {
   "cell_type": "code",
   "execution_count": null,
   "metadata": {},
   "outputs": [],
   "source": [
    "play_wordle(1)"
   ]
  },
  {
   "cell_type": "code",
   "execution_count": null,
   "metadata": {},
   "outputs": [],
   "source": [
    "play_wordle(2)"
   ]
  }
 ],
 "metadata": {
  "kernelspec": {
   "display_name": "Python 3.10.2 64-bit",
   "language": "python",
   "name": "python3"
  },
  "language_info": {
   "codemirror_mode": {
    "name": "ipython",
    "version": 3
   },
   "file_extension": ".py",
   "mimetype": "text/x-python",
   "name": "python",
   "nbconvert_exporter": "python",
   "pygments_lexer": "ipython3",
   "version": "3.10.2"
  },
  "vscode": {
   "interpreter": {
    "hash": "6053187175c16e09626500be52265b3aee1e4c31c5ca7d2d372bdfe044268c52"
   }
  }
 },
 "nbformat": 4,
 "nbformat_minor": 4
}
